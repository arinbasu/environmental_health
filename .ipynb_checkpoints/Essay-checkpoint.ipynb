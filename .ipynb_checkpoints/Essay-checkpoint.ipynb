{
 "cells": [
  {
   "cell_type": "markdown",
   "metadata": {},
   "source": [
    "## The purpose of this paper or experiment is \n",
    "\n",
    "1. To write using a jupyter notebook\n",
    "2. Write everything here\n",
    "3. Add references here using the latex citation commands (later, when I use markdown, in the markdown I can switch to the usual pandoc understandable citation commands)\n",
    "4. use the markdown formatted document to generate a latex file and push the latex file to Overleaf\n",
    "5. See how as I update this file, the latex file updates as well with some git commands.\n",
    "6. Also generate a bibtex file from the Home button and then push it out to overleaf folder when I am done and bring it back to here when I want to write again (actually leave it here and copy it when I need to overwrite the Overleaf folder bit). \n",
    "\n",
    "## Why would I like to do it?\n",
    "\n",
    "- Convenience\n",
    "- Pleasure\n",
    "- Unity\n",
    "\n"
   ]
  },
  {
   "cell_type": "markdown",
   "metadata": {},
   "source": [
    "## Add a Table\n",
    "\n",
    "Add a table in the usual markdown way\n",
    "\n",
    "| What is | What if   |\n",
    "|---------|---------  |\n",
    "|What wows| What works|\n",
    "\n",
    "And see how it works"
   ]
  },
  {
   "cell_type": "markdown",
   "metadata": {},
   "source": [
    "## Add a reference and citation\n",
    "\n",
    "Blair (2007) wrote about the methodological issues around exposure assessment in epidemiological studies \\cite{Blair:2007cy}. We keep on writing and saving and see how these things will shape up the structure. "
   ]
  },
  {
   "cell_type": "markdown",
   "metadata": {},
   "source": [
    "## Add a figure is likewise easy\n",
    "\n",
    "Add a figure from the net\n",
    "\n",
    "![Photo exposure](http://www.myphotoshopsite.com/tutorials/level_3/images/exposure_sample.jpg)\n",
    "\n"
   ]
  },
  {
   "cell_type": "markdown",
   "metadata": {},
   "source": [
    "These are the essential elements that we want to show off. The last thing we'd like to do is to add links.\n",
    "\n",
    "[Google](http://www.google.com)"
   ]
  },
  {
   "cell_type": "markdown",
   "metadata": {},
   "source": [
    "## Lessons learned\n",
    "\n",
    "1. Do not worry about too much\n",
    "2. You can fix most stuff here\n",
    "3. For figures, bring them directly into Overleaf from web first and then add their filenames here. \n",
    "4. For bibtex, if you add references, remember to cp the bibtex files to overleaf\n",
    "5. Localhost is our friend"
   ]
  }
 ],
 "metadata": {
  "kernelspec": {
   "display_name": "R",
   "language": "R",
   "name": "ir"
  },
  "language_info": {
   "codemirror_mode": "r",
   "file_extension": ".r",
   "mimetype": "text/x-r-source",
   "name": "R",
   "pygments_lexer": "r",
   "version": "3.3.0"
  }
 },
 "nbformat": 4,
 "nbformat_minor": 0
}
