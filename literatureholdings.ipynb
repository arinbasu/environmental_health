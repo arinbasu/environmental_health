{
 "cells": [
  {
   "cell_type": "markdown",
   "metadata": {},
   "source": [
    "# Here, we are going to hold the literature notes\n",
    "- The name of the paper and the author\n",
    "- the notes in markdown format\n",
    "- the bibtex entry goes into the references.bib file"
   ]
  },
  {
   "cell_type": "markdown",
   "metadata": {},
   "source": [
    "Health risk assessment is the process wherein toxicology data from ani- mal studies and human epidemiology are evaluated, a mathematical formu- la is applied to predict the response at low doses, and then information about the degree of exposure is used to predict quantitatively the likelihood that a particular adverse response will be seen in a specific human popu- lation"
   ]
  }
 ],
 "metadata": {
  "kernelspec": {
   "display_name": "R",
   "language": "R",
   "name": "ir"
  },
  "language_info": {
   "codemirror_mode": "r",
   "file_extension": ".r",
   "mimetype": "text/x-r-source",
   "name": "R",
   "pygments_lexer": "r",
   "version": "3.3.0"
  }
 },
 "nbformat": 4,
 "nbformat_minor": 0
}
