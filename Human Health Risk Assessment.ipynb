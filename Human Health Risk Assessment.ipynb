{
 "cells": [
  {
   "cell_type": "markdown",
   "metadata": {
    "slideshow": {
     "slide_type": "slide"
    }
   },
   "source": [
    "# Human Health Risk Assessment in Environmental and Occupational Health"
   ]
  },
  {
   "cell_type": "markdown",
   "metadata": {
    "slideshow": {
     "slide_type": "slide"
    }
   },
   "source": [
    "## What is Human Health risk assessment \n",
    "\n",
    "- A process \n",
    "- We can evaluate the potential for Adverse Health Effects\n",
    "- Exposure can be\n",
    "- Naturally occurring or \n",
    "- Synthetic agents"
   ]
  },
  {
   "cell_type": "markdown",
   "metadata": {
    "slideshow": {
     "slide_type": "slide"
    }
   },
   "source": [
    "## Why Should We do HHRA\n",
    "- Regulatory agencies in the US for instance have used the risk assessment process for nearly 50 years\n",
    "- Risk Assessments we conduct these days are more accurate\n",
    "- We use physiology based pharmacokinetic models (also known as PBPK models)\n",
    "- Most environmental regulations and some occupational health standards have been based on HRA\n",
    "- A long list of chemicals worldwide have been regulated and monitoried using this technique\n",
    "- This is central to understanding environmental and occupational health issues"
   ]
  },
  {
   "cell_type": "markdown",
   "metadata": {
    "collapsed": true,
    "slideshow": {
     "slide_type": "slide"
    }
   },
   "source": [
    "## What happens in HRA\n",
    "\n",
    "- Evaluate Toxicology data from animal and human studies and human epidemiology \n",
    "- Apply mathematical formula \n",
    "- Predict the response at low doses, \n",
    "- Use information about the degree of exposure  \n",
    "- Quantitatively predict the likelihood that a particular adverse response in a specific human population"
   ]
  },
  {
   "cell_type": "markdown",
   "metadata": {
    "slideshow": {
     "slide_type": "slide"
    }
   },
   "source": [
    "## What are the steps of Exposure Assessment?"
   ]
  },
  {
   "cell_type": "markdown",
   "metadata": {
    "slideshow": {
     "slide_type": "slide"
    }
   },
   "source": [
    "## Human Health Risk Assessment\n",
    "\n",
    "\n",
    "- HHRA has four steps as follows\n",
    "- First Step: We identify hazards in the environment and in workplaces or occupational settings\n",
    "- Second Step: We assess how much exposure exists in the environment\n",
    "- Third Step: We assess the shape and properties of known dose response relationships\n",
    "- Final Step: We characterise the risk if one is exposed to a hazard"
   ]
  },
  {
   "cell_type": "markdown",
   "metadata": {
    "slideshow": {
     "slide_type": "slide"
    }
   },
   "source": [
    "## Objectives of this lesson\n",
    "\n",
    "- We shall learn about human health risk assessment\n",
    "- We shall learn what is meant by the term Hazard\n",
    "- We shall know the difference between hazard and risk\n",
    "- We shall learn the difference between exposure and dose\n",
    "- In the next lecture in the series, we shall do some hands-on exercises"
   ]
  },
  {
   "cell_type": "markdown",
   "metadata": {
    "slideshow": {
     "slide_type": "slide"
    }
   },
   "source": [
    "## Diagram of HHRA\n",
    "\n",
    "![HHRA](hhra1.png)"
   ]
  },
  {
   "cell_type": "markdown",
   "metadata": {
    "slideshow": {
     "slide_type": "slide"
    }
   },
   "source": [
    "## What is Hazard Identification?\n",
    "- The first step in HHRA\n",
    "- We learn about different types of hazards present\n",
    "- In the environment and workplace\n",
    "- Can you think of some hazards present in the classroom\n",
    "- Can you thin of some hazards that you may encounter in your workplace? \n",
    "- Toxicology and Epidemiology"
   ]
  },
  {
   "cell_type": "markdown",
   "metadata": {
    "slideshow": {
     "slide_type": "slide"
    }
   },
   "source": [
    "## What do we mean by Hazard?\n",
    "- A hazard is something that can cause potential harm\n",
    "- That harm need not be realised now\n",
    "- It is sufficient if that object is deemed to cause harm\n",
    "- A harm has not yet occurred but its potential to occur provided it has not occurred so far is a characteristic of Hazard\n",
    "- It is the potential that we are worried about"
   ]
  },
  {
   "cell_type": "markdown",
   "metadata": {
    "slideshow": {
     "slide_type": "slide"
    }
   },
   "source": [
    "## How do we learn about Hazards?\n",
    "- Toxicology and Epidemiology\n",
    "- Toxicology involves Animal experiments\n",
    "- Tests conducted in laboratories\n",
    "- Human tissues\n",
    "- Epidemiology = Epidemiological studies\n",
    "- While toxicology has become refined, most advances are in the field of exposure assessment"
   ]
  },
  {
   "cell_type": "markdown",
   "metadata": {
    "slideshow": {
     "slide_type": "slide"
    }
   },
   "source": [
    "## Animal Experiments\n",
    "- Studies that have been conducted on animals\n",
    "- For example exposing animals such as rats to\n",
    "- Radiation, or chemicals\n",
    "- Study the responses"
   ]
  },
  {
   "cell_type": "markdown",
   "metadata": {
    "slideshow": {
     "slide_type": "slide"
    }
   },
   "source": [
    "## Issues with Animal Studies\n",
    "- Not all human diseases can be reproduced\n",
    "- Arsenic toxicity and cancer related to As cannot be reproduced in rats and mice\n",
    "- The animal tissues are not exactly similar to humans\n",
    "- Different number of chromosomes, different genes involved"
   ]
  },
  {
   "cell_type": "markdown",
   "metadata": {
    "slideshow": {
     "slide_type": "slide"
    }
   },
   "source": [
    "## Why is it important to use Animal Studies?\n",
    "- Less risky than subjecting to Humans\n",
    "- You cannot study certain effects by subjecting humans to those exposure (Unethical)\n",
    "- Relatively less expensive and less time consuming"
   ]
  },
  {
   "cell_type": "markdown",
   "metadata": {
    "slideshow": {
     "slide_type": "slide"
    }
   },
   "source": [
    "## Human Tissue based Studies\n",
    "- Tissue samples are obtained from humans\n",
    "- Tissue samples are subjected to varying conditions of exposure\n",
    "- Tissue samples are then tested for generation of products or toxic changes\n",
    "- Useful for studying effects such as cancers\n",
    "- It is doubtful if *in vitro* studies would mimic exactly what happens *in vivo*"
   ]
  },
  {
   "cell_type": "markdown",
   "metadata": {
    "slideshow": {
     "slide_type": "slide"
    }
   },
   "source": [
    "## Epidemiological Studies\n",
    "- This is a population based approach\n",
    "- Observational epidemiological studies\n",
    "- Usually cross-sectional surveys\n",
    "- Case control studies\n",
    "- Rarely cohort studies"
   ]
  },
  {
   "cell_type": "markdown",
   "metadata": {
    "slideshow": {
     "slide_type": "slide"
    }
   },
   "source": [
    "## What is meant by Exposure Assessment?\n",
    "\n",
    "- A vital step in the risk assessment process \n",
    "- This step quantifies the uptake of an agent \n",
    "- That uptake results from contact with various environmental media \n",
    "- Air, Water, Soil, Food\n",
    "- Can address past, current, or future anticipated exposures"
   ]
  },
  {
   "cell_type": "markdown",
   "metadata": {
    "slideshow": {
     "slide_type": "slide"
    }
   },
   "source": [
    "## Elements of Exposure Assessment\n",
    "\n",
    "- Industrial hygiene, \n",
    "- Radiological health,  \n",
    "- Biochemical and large animal toxicology\n",
    "- Atmospheric sciences\n",
    "- Analytical chemistry \n",
    "- Physiology, Food sciences and Nutrition\n",
    "- Relies upon statistics, Environmental modeling "
   ]
  },
  {
   "cell_type": "markdown",
   "metadata": {
    "slideshow": {
     "slide_type": "slide"
    }
   },
   "source": [
    "## Importance of Exposure Assessment\n",
    "\n",
    "“Toxicology data are important, but they do not mean much without quantitative information about human exposure.”"
   ]
  },
  {
   "cell_type": "markdown",
   "metadata": {
    "slideshow": {
     "slide_type": "slide"
    }
   },
   "source": [
    "## What do we do in exposure assessment?\n",
    "- Describe the nature and size of the various populations Exposed to a chemical agent or another agent \n",
    "- Describe the magnitude of exposures\n",
    "- Describe duration of exposures\n",
    "- Determine the degree of contact a person has with a chemical \n",
    "- We estimate the magnitude of the absorbed dose"
   ]
  },
  {
   "cell_type": "markdown",
   "metadata": {
    "slideshow": {
     "slide_type": "slide"
    }
   },
   "source": [
    "## What does the word \"contact\" mean here?\n",
    "\n",
    "- No agreement on this term: somewhat confusing\n",
    "- Does this mean contact with the visible exterior of the person?\n",
    "- Or, does it mean exchange boundaries where absorption takes place (skin, lungs, gastrointestinal tract)"
   ]
  },
  {
   "cell_type": "markdown",
   "metadata": {
    "slideshow": {
     "slide_type": "slide"
    }
   },
   "source": [
    "## Three Approaches to Exposure Assessment\n",
    "\n",
    "- **Direct measurement** (Measure at the point of contact)\n",
    "- Example: Measure amount of soil or petrol or another chemical on the hand of the person at the time\n",
    "- **Exposure Scenario** (Develop a hypothetical scenario and then run your estimates)\n",
    "- When should you do this? When you cannot directly measure the exposure\n",
    "- **Biomonitoring** Measure known metabolites or products in the body itself (cotinine in urine for nicotine exposure, or benzene metabolites). Think of routine police checks by the roadside\n",
    "- These three approaches are complementary and independent of each other: so use them in combination for best effect\n"
   ]
  },
  {
   "cell_type": "markdown",
   "metadata": {
    "slideshow": {
     "slide_type": "slide"
    }
   },
   "source": [
    "## Concept of Exchange Boundaries\n",
    "- Outer boundary \n",
    "- Skin\n",
    "- Mouth (Oral cavity)\n",
    "- Nostrils\n",
    "- If there is a puncture in the skin or wound\n",
    "- The chemical comes and touches this boundary"
   ]
  },
  {
   "cell_type": "markdown",
   "metadata": {
    "slideshow": {
     "slide_type": "slide"
    }
   },
   "source": [
    "## Exposure Assessment with Exchange Boundaries\n",
    "- Intensity, frequency, duration of contact\n",
    "- Route the chemical takes in traversing that boundary\n",
    "- How much chemical or agent actually crosses\n",
    "- What is the amount that reaches the final target organ (dose)\n",
    "- Expressed in terms of amount/volume-time (eg mg/Kg body weight - hour)"
   ]
  },
  {
   "cell_type": "markdown",
   "metadata": {
    "slideshow": {
     "slide_type": "slide"
    }
   },
   "source": [
    "## Exposure Dose, Intake, Uptake\n",
    "\n",
    "- Chemical comes in contact with the exchange barrier\n",
    "- Chemical enters the body\n",
    "- Absorption is the process by which the chemical comes in contact with the biological significant site\n",
    "- How do we estimate the degree to which the chemical cross the boundary?"
   ]
  },
  {
   "cell_type": "markdown",
   "metadata": {
    "slideshow": {
     "slide_type": "slide"
    }
   },
   "source": [
    "## Concepts of Intake and Uptake\n",
    "- Intake = physically moving the chemical \n",
    "- Move through an opening in the outer boundary\n",
    "- Mouth, nose, inhalation, eating, drinking\n",
    "- Chemical in the media >> now enters the body\n",
    "- Uptake: chemical absorbed through skin/wounds\n",
    "- Uptake == Intake?"
   ]
  },
  {
   "cell_type": "markdown",
   "metadata": {
    "slideshow": {
     "slide_type": "slide"
    }
   },
   "source": [
    "## Uptake versus Intake\n",
    "\n",
    "\"...if a chemical cannot be released from a medium (say soil particle), then it has no bioavailability and, consequently, since there is no uptake the chemical does not pose a risk\" (Paustenbach, 2000)"
   ]
  },
  {
   "cell_type": "markdown",
   "metadata": {
    "slideshow": {
     "slide_type": "slide"
    }
   },
   "source": [
    "## Different types of doses\n",
    "- Applied dose = the amount of chemical available at the absorption barrier\n",
    "- If we know the applied dose, then we can estimate the internal dose that an individual will be exposed to\n",
    "- Potential dose = amount of chemical ingested/inhaled/applied to skin\n",
    "- The potential dose does not mean that all of the concentration in the medium, depends on bioavailability\n",
    "- Bioavailability = amount of the exposure chemical that actually reaches the barrier\n",
    "- Internal dose = amount of chemical that has been absorbed and is available for interaction with target organ\n",
    "- Estimation of internal dosage is the first objective of exposure assessment\n",
    "- Biologically effective dose = the amount that actually reaches the cells or tissues"
   ]
  },
  {
   "cell_type": "markdown",
   "metadata": {
    "slideshow": {
     "slide_type": "slide"
    }
   },
   "source": [
    "## How do we characterise exposure?\n",
    "\n",
    "- One time estimation of the exposure molecule in body fluid\n",
    "- Works very well for short acting compounds\n",
    "- The biological half-life of a toxin is very important \n",
    "- Pharmacokinetics is the way a body deals with a toxin\n",
    "- Pharmacodynamics is the action a toxin to the body\n",
    "- The duration of stay of a toxin in the body is important"
   ]
  },
  {
   "cell_type": "markdown",
   "metadata": {
    "slideshow": {
     "slide_type": "slide"
    }
   },
   "source": [
    "## Pathways of Exposure, Paustenbach (2000)\n",
    "\n",
    "![Exposure Pathways from Paustenbach (2000)](exposure_pathways.png)"
   ]
  },
  {
   "cell_type": "markdown",
   "metadata": {
    "slideshow": {
     "slide_type": "slide"
    }
   },
   "source": [
    "## Routes of Exposure\n",
    "- Dust and vapor inhalation, \n",
    "- Skin contact with contaminated soils or dusts, \n",
    "- Oral route, eating contaminated food, \n",
    "- Drinking water, \n",
    "- Eating or through food, dust, or soil\n",
    "- Inhalation (workplace)\n",
    "- Skin uptake\n",
    "- Hand to mouth oral route"
   ]
  },
  {
   "cell_type": "markdown",
   "metadata": {
    "slideshow": {
     "slide_type": "slide"
    }
   },
   "source": [
    "## Importance of time during exposure, Paustenbach (2000)\n",
    "\n",
    "![Dose time relationship](dose_time.png)"
   ]
  },
  {
   "cell_type": "markdown",
   "metadata": {
    "slideshow": {
     "slide_type": "slide"
    }
   },
   "source": [
    "## What is half life and why important\n",
    "- Half life = how long before 50% of the toxin is gone from the body \n",
    "- Half life can be short or long (arbitrary)\n",
    "- If we are dealing with a toxin of short half life, then one time rapid meaurement in the body fluid important\n",
    "- If we are dealing with a toxin with long half life, then we need to plan longer term measurement"
   ]
  },
  {
   "cell_type": "markdown",
   "metadata": {
    "slideshow": {
     "slide_type": "slide"
    }
   },
   "source": [
    "\n",
    "## Strategies of measuring exposure\n",
    "- if it has very long half life (> 90 days)\n",
    "- Annual average exposure by integrating exposure patterns\n",
    "- Aggregate exposure = sum total of exposure through all the different routes\n",
    "- Time Weighted Average (TWA) - use it particularly for known toxins that can cause cancer\n",
    "- TWA = Total dose / Time period (example mg/Kg - day)"
   ]
  },
  {
   "cell_type": "markdown",
   "metadata": {
    "slideshow": {
     "slide_type": "slide"
    }
   },
   "source": [
    "## What is meant by Dose?\n",
    "- Dose is the amount of exposure at the target organ\n",
    "- Factors that influence dose:\n",
    "- Duration of Exposure\n",
    "- Route of Exposure\n",
    "- Bioavailability of the contaminant media\n",
    "- Characteristics of the exposed population\n",
    "- For humans, pathways and patterns of metabolism of the chemical that is absorbed"
   ]
  },
  {
   "cell_type": "markdown",
   "metadata": {
    "slideshow": {
     "slide_type": "slide"
    }
   },
   "source": [
    "## What is the difference between Exposure and Dose?\n",
    "- Exposure is the amount of the agent we are opened up to\n",
    "- This exposure does not necessarily mean that we are going to be harmed\n",
    "- Exposure is the mechanism by which an agent gets entry into human body\n",
    "- Enters the human body and gets access to the specific tissue \n",
    "- If we put barriers to entry of the exposure agent and control the exposure pathway, then even though the exposure may be high, the dose is low\n",
    "- So, exposure and dose are two different things"
   ]
  },
  {
   "cell_type": "markdown",
   "metadata": {
    "slideshow": {
     "slide_type": "slide"
    }
   },
   "source": [
    "## Average Daily Dose\n",
    "\n",
    "$$ ADD = (C * IR * D * B) / (BW * AT) $$\n",
    "\n",
    "ADD = Potential Average Daily Dose\n",
    "C = Exposure Concentration\n",
    "IR = Rate of Ingestion or Intake\n",
    "D = Duration over which exposed to toxin\n",
    "B = Bioavailability\n",
    "BW = Body Weight\n",
    "AT = Time period over which you are averaging the exposure"
   ]
  },
  {
   "cell_type": "markdown",
   "metadata": {
    "slideshow": {
     "slide_type": "slide"
    }
   },
   "source": [
    "## Calculate the average daily dose of Aldrin\n",
    "\n",
    "- Over a lifetime, in NZ, we eat say about 1500 kg of Lettuce. \n",
    "- Lettuce contains a pesticide Aldrin (average 4 mg/Kg on all lettuce eaten over lifetime)\n",
    "- In a week, say we eat 500g (0.5 kg) of lettuce\n",
    "- Maximum in any day is 0.04 kg/d (like 40 grams)\n",
    "- Assume 90% of Aldrin will be available to body\n",
    "- Calculate the average daily dose of Aldrin for a 70 kg person"
   ]
  },
  {
   "cell_type": "markdown",
   "metadata": {
    "slideshow": {
     "slide_type": "slide"
    }
   },
   "source": [
    "## From the above we have\n",
    "\n",
    "C (Toxin Concentration) = 4 mg/kg (aldrin)\n",
    "IR (Intake Rate) = 0.5 kg/week\n",
    "D (Duration of Intake) = 1 week\n",
    "B (Bioavailability at 90%) = 0.9 \n",
    "BW (body weight) = 70 kg\n",
    "AT (Averaged over 7 days) = 7\n",
    "\n",
    "Plug these values in the above formula and calculate the average daily dose. \n"
   ]
  },
  {
   "cell_type": "code",
   "execution_count": 4,
   "metadata": {
    "collapsed": true,
    "slideshow": {
     "slide_type": "slide"
    }
   },
   "outputs": [],
   "source": [
    "## Answer to the Aldrin Problem\n",
    "addcalc <- function(c, i, d, b, bw, at){\n",
    "    addnum <- c * i * d * b\n",
    "    adddenom <- bw * at\n",
    "    addcalc <- round(addnum/adddenom, 5)\n",
    "    return(addcalc)\n",
    "}"
   ]
  },
  {
   "cell_type": "code",
   "execution_count": 6,
   "metadata": {
    "collapsed": false,
    "slideshow": {
     "slide_type": "slide"
    }
   },
   "outputs": [
    {
     "name": "stdout",
     "output_type": "stream",
     "text": [
      "[1] 0.00367\n",
      "[1] 24500\n"
     ]
    }
   ],
   "source": [
    "## Result of the function\n",
    "print(addcalc(4, 0.5, 1, 0.9, 70, 7))\n",
    "print(70 * 350)"
   ]
  },
  {
   "cell_type": "markdown",
   "metadata": {
    "slideshow": {
     "slide_type": "slide"
    }
   },
   "source": [
    "## What happens if the toxin can cause cancer?\n",
    "\n",
    "- The response is usually described in terms of lifetime probabilities\n",
    "- Even if the actual exposure does not occur over entire lifetime, we still talk in terms of lifetime averaged daily dosage\n",
    "- LADD = Lifetime averaged daily dosage\n",
    "- As if that occurred throughout the person's life (how else do we know?)"
   ]
  },
  {
   "cell_type": "markdown",
   "metadata": {
    "slideshow": {
     "slide_type": "slide"
    }
   },
   "source": [
    "## How do we calculate LADD?\n",
    "\n",
    "$$ LADD = (C * SI * D * B ) / (BW * LT) $$\n",
    "LADD = Lifetime Averaged Daily Dose (for cancer toxins)\n",
    "C = Concentration of the toxin\n",
    "SI = Summed average rates over lifetime (assume 70 years of life) \n",
    "SI = $$ IR * D $$\n",
    "IR = Ingestion rate per unit time\n",
    "D = Duration of life (70 years)\n",
    "B = Bioavailability\n",
    "BW = Body Weight\n",
    "LT = Lifetime expressed in days"
   ]
  },
  {
   "cell_type": "markdown",
   "metadata": {
    "slideshow": {
     "slide_type": "slide"
    }
   },
   "source": [
    "## Run the exercise again, this time with LADD\n",
    "\n",
    "We have\n",
    "C (Toxin Concentration) = 4 mg/kg\n",
    "SI (Summated Ingestion) = 70 years * 0.5 kg/wk roughly, SI = 7000 (say 50 weeks/year) / 70 kg = 100 kg/bw\n",
    "D (Duration of life) = 70 years\n",
    "B (Bioavailability) = 0.9\n",
    "BW (Body weight) = 70 kg\n",
    "LT (lifetime in days) = 24550 (say 350 days/year)\n"
   ]
  },
  {
   "cell_type": "code",
   "execution_count": 18,
   "metadata": {
    "collapsed": true,
    "slideshow": {
     "slide_type": "slide"
    }
   },
   "outputs": [],
   "source": [
    "## Here is the LaDD formula\n",
    "ladd <- round((4 * 100 * 70 * 0.9) / (70 * 24500), 3)\n"
   ]
  },
  {
   "cell_type": "code",
   "execution_count": 19,
   "metadata": {
    "collapsed": false,
    "slideshow": {
     "slide_type": "slide"
    }
   },
   "outputs": [
    {
     "name": "stdout",
     "output_type": "stream",
     "text": [
      "[1] 0.015\n"
     ]
    }
   ],
   "source": [
    "print(ladd) # in mg/kg-d"
   ]
  },
  {
   "cell_type": "markdown",
   "metadata": {
    "slideshow": {
     "slide_type": "slide"
    }
   },
   "source": [
    "## Concentration of the chemical in the Medium Essential\n",
    "- To estimate the magnitude of the dose\n",
    "- Usually obtained by analytical measurements of samples of the contaminated medium\n",
    "- Mathematical Models"
   ]
  },
  {
   "cell_type": "markdown",
   "metadata": {
    "slideshow": {
     "slide_type": "slide"
    }
   },
   "source": [
    "## Summary and Key Points\n",
    "- HHRA is Human Health Risk Assessment\n",
    "- We will discuss in two parts\n",
    "- Four steps: Hazard Identification, Exposure Assessment, Dose Response Assessment, Risk Characterisation\n",
    "- We discussed Hazard Identification and Exposure Assessment today\n",
    "- Exposure is not the same as Dose\n",
    "- Next week, we shall continue with Concepts of Dose and Dose-Response Assessment\n",
    "- Next Week, we shall also discuss Risk and Risk Characterisation"
   ]
  }
 ],
 "metadata": {
  "celltoolbar": "Slideshow",
  "kernelspec": {
   "display_name": "R",
   "language": "R",
   "name": "ir"
  },
  "language_info": {
   "codemirror_mode": "r",
   "file_extension": ".r",
   "mimetype": "text/x-r-source",
   "name": "R",
   "pygments_lexer": "r",
   "version": "3.3.0"
  }
 },
 "nbformat": 4,
 "nbformat_minor": 0
}
