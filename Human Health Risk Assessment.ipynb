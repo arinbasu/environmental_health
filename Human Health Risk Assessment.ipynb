{
 "cells": [
  {
   "cell_type": "markdown",
   "metadata": {},
   "source": [
    "## Definition of Health risk assessment \n",
    "\n",
    "- It is a process \n",
    "- We can evaluate the potential \n",
    "- For adverse health effects \n",
    "- From exposure to \n",
    "- Naturally occurring or \n",
    "- Synthetic agents"
   ]
  },
  {
   "cell_type": "markdown",
   "metadata": {},
   "source": [
    "## Why and uses\n",
    "- Regulatory agencies in the US for instance have used the risk assessment process for nearly 50 years\n",
    "- Risk Assessments we conduct these days are more accurate\n",
    "- We use physiology based pharmacokinetic models (also known as PBPK models)\n",
    "- Most environmental regulations and some occupational health standards have been based on HRA\n",
    "- A long list of chemicals worldwide have been regulated and monitoried using this technique\n",
    "- This is central to understanding environmental and occupational health issues"
   ]
  },
  {
   "cell_type": "markdown",
   "metadata": {
    "collapsed": true
   },
   "source": [
    "## What happens in HRA\n",
    "\n",
    "- Evaluate Toxicology data from animal and human studies and human epidemiology \n",
    "- Apply mathematical formula \n",
    "- Predict the response at low doses, \n",
    "- Use information about the degree of exposure  \n",
    "- Quantitatively predict the likelihood that a particular adverse response in a specific human population"
   ]
  },
  {
   "cell_type": "markdown",
   "metadata": {},
   "source": [
    "## Human Health Risk Assessment\n",
    "\n",
    "In this lecture, we are going to learn human health risk assessment (HHRA).\n",
    "HHRA has four steps as follows\n",
    "\n",
    "1. First Step: We identify hazards in the environment and in workplaces or occupational settings\n",
    "2. Second Step: We assess how much exposure exists in the environment\n",
    "3. Third Step: We assess the shape and properties of known dose response relationships\n",
    "4. Final Step: On the basis of exposure, exposure to dose characterisation, and dose reponse relationships\n",
    "5. Final Step 2: We characterise the risk if one is exposed to a hazard"
   ]
  },
  {
   "cell_type": "markdown",
   "metadata": {},
   "source": [
    "## What are the steps of Exposure Assessment?"
   ]
  },
  {
   "cell_type": "markdown",
   "metadata": {},
   "source": [
    "## Objectives of this lesson\n",
    "\n",
    "- We shall learn about human health risk assessment\n",
    "- We shall learn what is meant by the term Hazard\n",
    "- We shall know the difference between hazard and risk\n",
    "- We shall learn the difference between exposure and dose\n",
    "- We shall learn how to examine dose response curves\n",
    "- We shall learn what is meant by risk characterisation\n",
    "- In the next lecture in the series, we shall do some hands-on exercises"
   ]
  },
  {
   "cell_type": "markdown",
   "metadata": {},
   "source": [
    "## Diagram of HHRA\n",
    "\n",
    "![HHRA](hhra1.png)"
   ]
  },
  {
   "cell_type": "markdown",
   "metadata": {},
   "source": [
    "## What is Hazard Identification?\n",
    "- The first step in HHRA\n",
    "- We learn about different types of hazards present\n",
    "- In the environment and workplace\n",
    "- Can you think of some hazards present in the classroom\n",
    "- Can you thin of some hazards that you may encounter in your workplace? \n",
    "- Toxicology and Epidemiology"
   ]
  },
  {
   "cell_type": "markdown",
   "metadata": {},
   "source": [
    "## What do we mean by Hazard?\n",
    "- A hazard is something that can cause potential harm\n",
    "- That harm need not be realised now\n",
    "- It is sufficient if that object is deemed to cause harm\n",
    "- A harm has not yet occurred but its potential to occur provided it has not occurred so far is a characteristic of Hazard\n",
    "- It is the potential that we are worried about"
   ]
  },
  {
   "cell_type": "markdown",
   "metadata": {},
   "source": [
    "## How do we learn about Hazards?\n",
    "- Toxicology and Epidemiology\n",
    "- Toxicology involves\n",
    "- Animal experiments\n",
    "- Tests conducted in laboratories\n",
    "- Human tissues\n",
    "- Epidemiology = Epidemiological studies\n",
    "- While toxicology has become refined, most advances are in the field of exposure assessment"
   ]
  },
  {
   "cell_type": "markdown",
   "metadata": {},
   "source": [
    "## Animal Experiments\n",
    "- Studies that have been conducted on animals\n",
    "- For example exposing animals such as rats to\n",
    "- Radiation, or chemicals\n",
    "- Study the responses"
   ]
  },
  {
   "cell_type": "markdown",
   "metadata": {},
   "source": [
    "## Issues with Animal Studies\n",
    "- Not all human diseases can be reproduced\n",
    "- Arsenic toxicity and cancer related to As cannot be reproduced in rats and mice\n",
    "- The animal tissues are not exactly similar to humans\n",
    "- Different number of chromosomes, different genes involved"
   ]
  },
  {
   "cell_type": "markdown",
   "metadata": {},
   "source": [
    "## Why is it important to use Animal Studies?\n",
    "- Less risky than subjecting to Humans\n",
    "- You cannot study certain effects by subjecting humans to those exposure (Unethical)\n",
    "- Relatively less expensive and less time consuming"
   ]
  },
  {
   "cell_type": "markdown",
   "metadata": {},
   "source": [
    "## Human Tissue based Studies\n",
    "- Tissue samples are obtained from humans\n",
    "- Tissue samples are subjected to varying conditions of exposure\n",
    "- Tissue samples are then tested for generation of products or toxic changes\n",
    "- Useful for studying effects such as cancers\n",
    "- It is doubtful if *in vitro* studies would mimic exactly what happens *in vivo*"
   ]
  },
  {
   "cell_type": "markdown",
   "metadata": {},
   "source": [
    "## Epidemiological Studies\n",
    "- This is a population based approach\n",
    "- Observational epidemiological studies\n",
    "- Usually cross-sectional surveys\n",
    "- Case control studies\n",
    "- Rarely cohort studies"
   ]
  },
  {
   "cell_type": "markdown",
   "metadata": {},
   "source": [
    "## Examples of Hazard Identification Studies"
   ]
  },
  {
   "cell_type": "markdown",
   "metadata": {},
   "source": [
    "## What is meant by Exposure Assessment?\n",
    "\n",
    "- A vital step in the risk assessment process \n",
    "- This step quantifies the uptake of an agent \n",
    "- That uptake results from contact with various environmental media \n",
    "- Air, Water, Soil, Food\n",
    "- Can address past, current, or future anticipated exposures"
   ]
  },
  {
   "cell_type": "markdown",
   "metadata": {},
   "source": [
    "## Elements of Exposure Assessment\n",
    "\n",
    "- Combines elements of \n",
    "- Industrial hygiene, \n",
    "- Radiological health, \n",
    "- Air pollution \n",
    "- Relies upon statistics, \n",
    "- biochemical and large animal toxicology\n",
    "- Atmospheric sciences\n",
    "- Analytical chemistry, \n",
    "- Food sciences and Nutrition\n",
    "- Physiology, \n",
    "- Environmental modeling "
   ]
  },
  {
   "cell_type": "markdown",
   "metadata": {},
   "source": [
    "## Importance of Exposure Assessment\n",
    "\n",
    "“Toxicology data are important, but they do not mean much without quantitative information about human exposure.”"
   ]
  },
  {
   "cell_type": "markdown",
   "metadata": {},
   "source": [
    "## What do we do in exposure assessment?\n",
    "- Describe the nature and size of the various populations Exposed to a chemical agent or another agent \n",
    "- Describe the magnitude of exposures\n",
    "- Describe duration of exposures\n",
    "- Determine the degree of contact a person has with a chemical \n",
    "- We estimate the magnitude of the absorbed dose"
   ]
  },
  {
   "cell_type": "markdown",
   "metadata": {},
   "source": [
    "## What does the word \"contact\" mean here?\n",
    "\n",
    "- No agreement on this term: somewhat confusing\n",
    "- Does this mean contact with the visible exterior of the person?\n",
    "- Or, does it mean exchange boundaries where absorption takes place (skin, lungs, gastrointestinal tract)"
   ]
  },
  {
   "cell_type": "markdown",
   "metadata": {},
   "source": [
    "## Concept of Exchange Boundaries\n",
    "- Outer boundary \n",
    "- Skin\n",
    "- Mouth (Oral cavity)\n",
    "- Nostrils\n",
    "- If there is a puncture in the skin or wound\n",
    "- The chemical comes and touches this boundary"
   ]
  },
  {
   "cell_type": "markdown",
   "metadata": {},
   "source": [
    "## Exposure Assessment with Exchange Boundaries\n",
    "- Intensity, frequency, duration of contact\n",
    "- Route the chemical takes in traversing that boundary\n",
    "- How much chemical or agent actually crosses\n",
    "- What is the amount that reaches the final target organ (dose)\n",
    "- Expressed in terms of amount/volume-time (eg mg/Kg body weight - hour)"
   ]
  },
  {
   "cell_type": "markdown",
   "metadata": {},
   "source": [
    "## Exposure Dose, Intake, Uptake\n"
   ]
  },
  {
   "cell_type": "markdown",
   "metadata": {},
   "source": [
    "## What is the difference between Exposure and Dose?\n",
    "- Exposure is the amount of the agent we are opened up to\n",
    "- This exposure does not necessarily mean that we are going to be harmed\n",
    "- Exposure is the mechanism by which an agent gets entry into human body\n",
    "- Enters the human body and gets access to the specific tissue \n",
    "- If we put barriers to entry of the exposure agent and control the exposure pathway, then even though the exposure may be high, the dose is low\n",
    "- So, exposure and dose are two different things"
   ]
  },
  {
   "cell_type": "markdown",
   "metadata": {},
   "source": [
    "## What is meant by Dose?\n",
    "- Dose is the amount of exposure at the target organ\n",
    "- Factors that influence dose:\n",
    "- Duration of Exposure\n",
    "- Route of Exposure\n",
    "- Bioavailability of the contaminant media\n",
    "- Characteristics of the exposed population\n",
    "- For humans, pathways and patterns of metabolism of the chemical that is absorbed"
   ]
  },
  {
   "cell_type": "markdown",
   "metadata": {},
   "source": [
    "## Concentration of the chemical in the Medium Essential\n",
    "- To estimate the magnitude of the dose\n",
    "- Usually obtained by analytical measurements of samples of the contaminated medium\n",
    "- Mathematical Models"
   ]
  },
  {
   "cell_type": "markdown",
   "metadata": {},
   "source": [
    "## Pathways of Exposure, Paustenbach (2000)\n",
    "\n",
    "![Exposure Pathways from Paustenbach (2000)](exposure_pathways.png)"
   ]
  },
  {
   "cell_type": "markdown",
   "metadata": {},
   "source": [
    "## Routes of Exposure\n",
    "- Dust and vapor inhalation, \n",
    "- Skin contact with contaminated soils or dusts, \n",
    "- Oral route, eating contaminated food, \n",
    "- Drinking water, \n",
    "- Eating or through food, dust, or soil\n",
    "- Inhalation (workplace)\n",
    "- Skin uptake\n",
    "- Hand to mouth oral route"
   ]
  },
  {
   "cell_type": "markdown",
   "metadata": {},
   "source": [
    "## What is Dose Response Curve?"
   ]
  },
  {
   "cell_type": "markdown",
   "metadata": {},
   "source": [
    "## What are the different types of Dose Response Curve?"
   ]
  },
  {
   "cell_type": "markdown",
   "metadata": {},
   "source": [
    "## What is meant by LD50 and TLD?"
   ]
  },
  {
   "cell_type": "markdown",
   "metadata": {},
   "source": [
    "## What is meant by threshold effect?"
   ]
  },
  {
   "cell_type": "markdown",
   "metadata": {},
   "source": [
    "## How do we combine the dose response effect with exposure data?"
   ]
  },
  {
   "cell_type": "markdown",
   "metadata": {},
   "source": [
    "## What is the relationship between exposure and dose?"
   ]
  },
  {
   "cell_type": "markdown",
   "metadata": {},
   "source": [
    "## What is meant by Risk?"
   ]
  },
  {
   "cell_type": "markdown",
   "metadata": {},
   "source": [
    "## How do we combine dose-response effect with exposure assessment?"
   ]
  },
  {
   "cell_type": "markdown",
   "metadata": {},
   "source": [
    "## What is an example of a human health risk assessment?"
   ]
  },
  {
   "cell_type": "markdown",
   "metadata": {},
   "source": [
    "## Summary and Key Points"
   ]
  }
 ],
 "metadata": {
  "kernelspec": {
   "display_name": "R",
   "language": "R",
   "name": "ir"
  },
  "language_info": {
   "codemirror_mode": "r",
   "file_extension": ".r",
   "mimetype": "text/x-r-source",
   "name": "R",
   "pygments_lexer": "r",
   "version": "3.3.0"
  }
 },
 "nbformat": 4,
 "nbformat_minor": 0
}
