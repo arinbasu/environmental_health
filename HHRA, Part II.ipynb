{
 "cells": [
  {
   "cell_type": "markdown",
   "metadata": {},
   "source": [
    "## What are the different types of Dose Response Curve?\n",
    "\n",
    "## What is meant by LD50 and TLD?\n",
    "\n",
    "## What is meant by threshold effect?\n",
    "\n",
    "## How do we combine the dose response effect with exposure data?\n",
    "\n",
    "## What is meant by Risk?\n",
    "\n",
    "## How do we combine dose-response effect with exposure assessment?\n",
    "\n",
    "## What is an example of a human health risk assessment?"
   ]
  }
 ],
 "metadata": {
  "kernelspec": {
   "display_name": "R",
   "language": "R",
   "name": "ir"
  },
  "language_info": {
   "codemirror_mode": "r",
   "file_extension": ".r",
   "mimetype": "text/x-r-source",
   "name": "R",
   "pygments_lexer": "r",
   "version": "3.3.0"
  }
 },
 "nbformat": 4,
 "nbformat_minor": 0
}
